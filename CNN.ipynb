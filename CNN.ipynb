{
  "nbformat": 4,
  "nbformat_minor": 0,
  "metadata": {
    "colab": {
      "provenance": [],
      "gpuType": "T4",
      "authorship_tag": "ABX9TyOfd4lVE1N6h2vAvaIddBJ/",
      "include_colab_link": true
    },
    "kernelspec": {
      "name": "python3",
      "display_name": "Python 3"
    },
    "language_info": {
      "name": "python"
    },
    "accelerator": "GPU"
  },
  "cells": [
    {
      "cell_type": "markdown",
      "metadata": {
        "id": "view-in-github",
        "colab_type": "text"
      },
      "source": [
        "<a href=\"https://colab.research.google.com/github/zelihami/Derin-ogrenme/blob/main/CNN.ipynb\" target=\"_parent\"><img src=\"https://colab.research.google.com/assets/colab-badge.svg\" alt=\"Open In Colab\"/></a>"
      ]
    },
    {
      "cell_type": "markdown",
      "source": [
        "Global AI Hub Build a convolutional neural network"
      ],
      "metadata": {
        "id": "xOJDZNcpL7rk"
      }
    },
    {
      "cell_type": "code",
      "source": [
        "import tensorflow as tf\n",
        "import matplotlib.pyplot as plt\n",
        "import numpy as np"
      ],
      "metadata": {
        "id": "T7QDFobLnL1H"
      },
      "execution_count": null,
      "outputs": []
    },
    {
      "cell_type": "code",
      "source": [
        "(x_train, y_train),(x_test,y_test) =tf.keras.datasets.cifar10.load_data()"
      ],
      "metadata": {
        "colab": {
          "base_uri": "https://localhost:8080/"
        },
        "id": "yJQfBxk4nYne",
        "outputId": "5d402f60-9c88-44e5-8049-503cbecb5d22"
      },
      "execution_count": null,
      "outputs": [
        {
          "output_type": "stream",
          "name": "stdout",
          "text": [
            "Downloading data from https://www.cs.toronto.edu/~kriz/cifar-10-python.tar.gz\n",
            "170498071/170498071 [==============================] - 4s 0us/step\n"
          ]
        }
      ]
    },
    {
      "cell_type": "code",
      "source": [
        "plt.imshow(x_test[789])"
      ],
      "metadata": {
        "colab": {
          "base_uri": "https://localhost:8080/",
          "height": 447
        },
        "id": "TPlvRwUkntpa",
        "outputId": "bb59a0b4-9d74-4881-fafd-12f240bdfdcc"
      },
      "execution_count": null,
      "outputs": [
        {
          "output_type": "execute_result",
          "data": {
            "text/plain": [
              "<matplotlib.image.AxesImage at 0x7aaff58c7430>"
            ]
          },
          "metadata": {},
          "execution_count": 5
        },
        {
          "output_type": "display_data",
          "data": {
            "text/plain": [
              "<Figure size 640x480 with 1 Axes>"
            ],
            "image/png": "[encoded data removed]"
          },
          "metadata": {}
        }
      ]
    },
    {
      "cell_type": "code",
      "source": [
        "x_val=x_train[40000:]\n",
        "y_val=y_train[40000:]\n",
        "\n",
        "x_train=x_train[:40000]\n",
        "y_train=y_train[:40000]"
      ],
      "metadata": {
        "id": "jCnLAlTjn9MW"
      },
      "execution_count": null,
      "outputs": []
    },
    {
      "cell_type": "code",
      "source": [
        "x_train=x_train/255\n",
        "x_val=x_val/255\n",
        "x_test=x_test/255"
      ],
      "metadata": {
        "id": "YP-1AXvMoZmS"
      },
      "execution_count": null,
      "outputs": []
    },
    {
      "cell_type": "code",
      "source": [
        "model=tf.keras.Sequential()"
      ],
      "metadata": {
        "id": "XD1VQYWVosGJ"
      },
      "execution_count": null,
      "outputs": []
    },
    {
      "cell_type": "code",
      "source": [
        "model.add(tf.keras.layers.Conv2D(32,\n",
        "                                 kernel_size=(3,3),\n",
        "                                 padding=\"same\",\n",
        "                                 activation=\"relu\",\n",
        "                                 input_shape=(32,32,3)))\n",
        "model.add(tf.keras.layers.MaxPooling2D((2,2)))"
      ],
      "metadata": {
        "id": "COD8yWwMownu"
      },
      "execution_count": null,
      "outputs": []
    },
    {
      "cell_type": "code",
      "source": [
        "model.add(tf.keras.layers.Conv2D(64,\n",
        "                                 kernel_size=(3,3),\n",
        "                                 padding=\"same\",\n",
        "                                 activation=\"relu\"))\n",
        "model.add(tf.keras.layers.MaxPooling2D((2,2)))\n",
        "model.add(tf.keras.layers.Conv2D(64,\n",
        "                                 kernel_size=(3,3),\n",
        "                                 padding=\"same\",\n",
        "                                 activation=\"relu\"))"
      ],
      "metadata": {
        "id": "_0o9XPPMptj4"
      },
      "execution_count": null,
      "outputs": []
    },
    {
      "cell_type": "code",
      "source": [
        "model.add(tf.keras.layers.Flatten())"
      ],
      "metadata": {
        "id": "wx_HxbIkqlcM"
      },
      "execution_count": null,
      "outputs": []
    },
    {
      "cell_type": "code",
      "source": [
        "model.add(tf.keras.layers.Dense(64,activation=\"relu\"))\n",
        "model.add(tf.keras.layers.Dropout(0.5))\n",
        "\n",
        "model.add(tf.keras.layers.Dense(64,activation=\"relu\"))\n",
        "model.add(tf.keras.layers.Dropout(0.5))\n"
      ],
      "metadata": {
        "id": "7jBoF-nZqpev"
      },
      "execution_count": null,
      "outputs": []
    },
    {
      "cell_type": "code",
      "source": [
        "model.add(tf.keras.layers.Dense(10,activation=\"softmax\")) #multi-class classification olduğu için softmax iyi"
      ],
      "metadata": {
        "id": "kTsyUXJorCZa"
      },
      "execution_count": null,
      "outputs": []
    },
    {
      "cell_type": "code",
      "source": [
        "model.compile(optimizer=\"adam\",\n",
        "              loss=\"sparse_categorical_crossentropy\",\n",
        "              metrics=[\"accuracy\"])"
      ],
      "metadata": {
        "id": "zIHDtFA3rN0M"
      },
      "execution_count": null,
      "outputs": []
    },
    {
      "cell_type": "code",
      "source": [
        "results=model.fit(x_train,y_train,\n",
        "                  batch_size=128,\n",
        "                  epochs=20,\n",
        "                  validation_data=(x_val,y_val))"
      ],
      "metadata": {
        "colab": {
          "base_uri": "https://localhost:8080/"
        },
        "id": "zLXH2n9FraAr",
        "outputId": "ce45cfe9-a063-4aaa-f830-9f833c38033f"
      },
      "execution_count": null,
      "outputs": [
        {
          "output_type": "stream",
          "name": "stdout",
          "text": [
            "Epoch 1/20\n",
            "313/313 [==============================] - 9s 11ms/step - loss: 1.9787 - accuracy: 0.2383 - val_loss: 1.6244 - val_accuracy: 0.4238\n",
            "Epoch 2/20\n",
            "313/313 [==============================] - 2s 7ms/step - loss: 1.6723 - accuracy: 0.3682 - val_loss: 1.3856 - val_accuracy: 0.5089\n",
            "Epoch 3/20\n",
            "313/313 [==============================] - 2s 7ms/step - loss: 1.5078 - accuracy: 0.4386 - val_loss: 1.2803 - val_accuracy: 0.5589\n",
            "Epoch 4/20\n",
            "313/313 [==============================] - 2s 7ms/step - loss: 1.3942 - accuracy: 0.4936 - val_loss: 1.1767 - val_accuracy: 0.5943\n",
            "Epoch 5/20\n",
            "313/313 [==============================] - 2s 6ms/step - loss: 1.3169 - accuracy: 0.5199 - val_loss: 1.0724 - val_accuracy: 0.6389\n",
            "Epoch 6/20\n",
            "313/313 [==============================] - 3s 10ms/step - loss: 1.2377 - accuracy: 0.5548 - val_loss: 1.0373 - val_accuracy: 0.6423\n",
            "Epoch 7/20\n",
            "313/313 [==============================] - 2s 7ms/step - loss: 1.1889 - accuracy: 0.5752 - val_loss: 1.0059 - val_accuracy: 0.6523\n",
            "Epoch 8/20\n",
            "313/313 [==============================] - 2s 7ms/step - loss: 1.1385 - accuracy: 0.5949 - val_loss: 0.9845 - val_accuracy: 0.6608\n",
            "Epoch 9/20\n",
            "313/313 [==============================] - 2s 6ms/step - loss: 1.0986 - accuracy: 0.6131 - val_loss: 1.0190 - val_accuracy: 0.6532\n",
            "Epoch 10/20\n",
            "313/313 [==============================] - 2s 6ms/step - loss: 1.0539 - accuracy: 0.6245 - val_loss: 0.9161 - val_accuracy: 0.6886\n",
            "Epoch 11/20\n",
            "313/313 [==============================] - 2s 7ms/step - loss: 1.0145 - accuracy: 0.6386 - val_loss: 0.8910 - val_accuracy: 0.6991\n",
            "Epoch 12/20\n",
            "313/313 [==============================] - 3s 8ms/step - loss: 0.9933 - accuracy: 0.6488 - val_loss: 0.8847 - val_accuracy: 0.7046\n",
            "Epoch 13/20\n",
            "313/313 [==============================] - 2s 7ms/step - loss: 0.9628 - accuracy: 0.6589 - val_loss: 0.8787 - val_accuracy: 0.7030\n",
            "Epoch 14/20\n",
            "313/313 [==============================] - 2s 6ms/step - loss: 0.9184 - accuracy: 0.6754 - val_loss: 0.8584 - val_accuracy: 0.7145\n",
            "Epoch 15/20\n",
            "313/313 [==============================] - 2s 6ms/step - loss: 0.9042 - accuracy: 0.6793 - val_loss: 0.8584 - val_accuracy: 0.7141\n",
            "Epoch 16/20\n",
            "313/313 [==============================] - 2s 7ms/step - loss: 0.8802 - accuracy: 0.6872 - val_loss: 0.8558 - val_accuracy: 0.7143\n",
            "Epoch 17/20\n",
            "313/313 [==============================] - 2s 7ms/step - loss: 0.8549 - accuracy: 0.6967 - val_loss: 0.8732 - val_accuracy: 0.7110\n",
            "Epoch 18/20\n",
            "313/313 [==============================] - 2s 8ms/step - loss: 0.8357 - accuracy: 0.7027 - val_loss: 0.8568 - val_accuracy: 0.7199\n",
            "Epoch 19/20\n",
            "313/313 [==============================] - 2s 6ms/step - loss: 0.8173 - accuracy: 0.7082 - val_loss: 0.8677 - val_accuracy: 0.7202\n",
            "Epoch 20/20\n",
            "313/313 [==============================] - 2s 6ms/step - loss: 0.8132 - accuracy: 0.7080 - val_loss: 0.8367 - val_accuracy: 0.7219\n"
          ]
        }
      ]
    },
    {
      "cell_type": "code",
      "source": [
        "model.evaluate(x_test,y_test)"
      ],
      "metadata": {
        "colab": {
          "base_uri": "https://localhost:8080/"
        },
        "id": "R6mb2OY-sIue",
        "outputId": "e6aab6af-3b90-413c-87e6-bd716705e9be"
      },
      "execution_count": null,
      "outputs": [
        {
          "output_type": "stream",
          "name": "stdout",
          "text": [
            "313/313 [==============================] - 2s 4ms/step - loss: 0.8588 - accuracy: 0.7175\n"
          ]
        },
        {
          "output_type": "execute_result",
          "data": {
            "text/plain": [
              "[0.8587895631790161, 0.7174999713897705]"
            ]
          },
          "metadata": {},
          "execution_count": 18
        }
      ]
    },
    {
      "cell_type": "code",
      "source": [],
      "metadata": {
        "id": "zwBX6-sHstp2"
      },
      "execution_count": null,
      "outputs": []
    }
  ]
}